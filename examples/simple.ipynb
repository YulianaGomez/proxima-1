{
 "cells": [
  {
   "cell_type": "markdown",
   "metadata": {},
   "source": [
    "# Basic Example for Proxima\n",
    "Illustrates how a Learned Function Accelerator (LFA) can be used with Proxima to replace a function with a learned surrogate model"
   ]
  },
  {
   "cell_type": "code",
   "execution_count": 1,
   "metadata": {},
   "outputs": [],
   "source": [
    "%matplotlib inline\n",
    "from matplotlib import pyplot as plt\n",
    "from sklearn.neighbors import KNeighborsRegressor\n",
    "from proxima.inference import ScikitLearnInferenceEngine\n",
    "from proxima.training import TrainingEngine\n",
    "from proxima.data import InMemoryDataStorage\n",
    "from proxima.uq import DistanceBasedUQ\n",
    "from proxima.decorator import lfa\n",
    "from scipy.integrate import romberg\n",
    "import numpy as np"
   ]
  },
  {
   "cell_type": "markdown",
   "metadata": {},
   "source": [
    "## Make an Example Function and Application\n",
    "Our demonstration application is simple: Integrating a complex function"
   ]
  },
  {
   "cell_type": "markdown",
   "metadata": {},
   "source": [
    "Making the target function"
   ]
  },
  {
   "cell_type": "code",
   "execution_count": 2,
   "metadata": {},
   "outputs": [],
   "source": [
    "def ackley(X, a=20, b=0.2, c=2 * np.pi):\n",
    "    \"\"\"The Ackley function (http://www.sfu.ca/~ssurjano/ackley.html)\n",
    "    \n",
    "    Args:\n",
    "        X (ndarray): Function to be evaluated\n",
    "    Returns:\n",
    "        y (ndarray): Values of the Ackley function\n",
    "    \"\"\"\n",
    "    # Make X an array\n",
    "    X = np.array(X)\n",
    "    \n",
    "    # Get the dimensionality of the problem\n",
    "    if X.ndim == 0:\n",
    "        X = X[None, None]\n",
    "    elif X.ndim == 1:\n",
    "        X = X[:, None]\n",
    "    d = X.shape[1]\n",
    "    return - a * np.exp(-b * np.sqrt(np.sum(X ** 2, axis=1) / d)) \\\n",
    "        - np.exp(np.cos(c * X).sum(axis=1) / d) + a + np.e\n",
    "assert np.isclose(ackley(0), 0).all()\n",
    "assert np.isclose(ackley([0]), 0).all()\n",
    "assert np.isclose(ackley([0]*8), 0).all()"
   ]
  },
  {
   "cell_type": "code",
   "execution_count": 3,
   "metadata": {},
   "outputs": [
    {
     "data": {
      "image/png": "[encoded data removed]",
      "text/plain": [
       "<Figure size 252x180 with 1 Axes>"
      ]
     },
     "metadata": {},
     "output_type": "display_data"
    }
   ],
   "source": [
    "fig, ax = plt.subplots()\n",
    "\n",
    "# Run the Ackley Function\n",
    "X = np.linspace(-10, 10, 512)\n",
    "y = ackley(X)\n",
    "\n",
    "ax.plot(X, y)\n",
    "\n",
    "ax.set_xlabel('$x$')\n",
    "ax.set_ylabel('$f(x)$')\n",
    "fig.set_size_inches(3.5, 2.5)"
   ]
  },
  {
   "cell_type": "markdown",
   "metadata": {},
   "source": [
    "We can use this with Gaussian quadrature to compute the integral"
   ]
  },
  {
   "cell_type": "code",
   "execution_count": 4,
   "metadata": {},
   "outputs": [
    {
     "name": "stdout",
     "output_type": "stream",
     "text": [
      "Actual integral: 256.11\n"
     ]
    }
   ],
   "source": [
    "true_result = romberg(ackley, -10, 10)[0]\n",
    "print('Actual integral: {:.2f}'.format(true_result))"
   ]
  },
  {
   "cell_type": "markdown",
   "metadata": {},
   "source": [
    "## Building a Learned Function Approximator\n",
    "We need an initial model to create a approximator for this function. For this purpose, we choose K Nearest Neighbors because it does not require tuning hyper parameters as more data is added."
   ]
  },
  {
   "cell_type": "code",
   "execution_count": 5,
   "metadata": {},
   "outputs": [],
   "source": [
    "model = KNeighborsRegressor(weights='distance')"
   ]
  },
  {
   "cell_type": "markdown",
   "metadata": {},
   "source": [
    "Fit to some random points in [7, 10]"
   ]
  },
  {
   "cell_type": "code",
   "execution_count": 6,
   "metadata": {},
   "outputs": [],
   "source": [
    "points = np.random.uniform(7, 10, 5)[:, None]"
   ]
  },
  {
   "cell_type": "code",
   "execution_count": 7,
   "metadata": {},
   "outputs": [
    {
     "data": {
      "text/plain": [
       "KNeighborsRegressor(algorithm='auto', leaf_size=30, metric='minkowski',\n",
       "          metric_params=None, n_jobs=None, n_neighbors=5, p=2,\n",
       "          weights='distance')"
      ]
     },
     "execution_count": 7,
     "metadata": {},
     "output_type": "execute_result"
    }
   ],
   "source": [
    "model.fit(points, ackley(points))"
   ]
  },
  {
   "cell_type": "code",
   "execution_count": 8,
   "metadata": {},
   "outputs": [
    {
     "data": {
      "image/png": "[encoded data removed]",
      "text/plain": [
       "<Figure size 252x180 with 1 Axes>"
      ]
     },
     "metadata": {},
     "output_type": "display_data"
    }
   ],
   "source": [
    "fig, ax = plt.subplots()\n",
    "\n",
    "# Mark enumeration points\n",
    "X = np.linspace(-10, 10, 512)[:, None]\n",
    "\n",
    "# Generate the predictions\n",
    "y_pred = model.predict(X)\n",
    "y = ackley(X)\n",
    "\n",
    "# Plot it all\n",
    "ax.plot(X, y, 'k', label='target')\n",
    "ax.scatter(points, ackley(points), color='steelblue')\n",
    "ax.plot(X, y_pred, color='steelblue', label='model')\n",
    "\n",
    "ax.legend()\n",
    "\n",
    "ax.set_xlabel('$x$')\n",
    "ax.set_ylabel('$f(x)$')\n",
    "fig.set_size_inches(3.5, 2.5)"
   ]
  },
  {
   "cell_type": "markdown",
   "metadata": {},
   "source": [
    "Note that the function does well on [-7, 10], but has high uncertainities everywhere else"
   ]
  },
  {
   "cell_type": "markdown",
   "metadata": {},
   "source": [
    "## Build the AI Engine to Run this Approximator\n",
    "With this model in hand, our next step is to generate a system to use it in place of the Ackley function."
   ]
  },
  {
   "cell_type": "markdown",
   "metadata": {},
   "source": [
    "### Step 1: Generate the Engines Supporting the LFA\n",
    "We need tools to run the approximator, check when the approximator is applicable, collect data from the original function, and retrain the model\n",
    "\n",
    "Proxima supports of variety of tools that implement differnet strategies for running each of these task. \n",
    "We refer to them as \"Engines.\""
   ]
  },
  {
   "cell_type": "markdown",
   "metadata": {},
   "source": [
    "### Inference Engine\n",
    "We can use Proxima's Scikit-Learn adaptor to wrap the model"
   ]
  },
  {
   "cell_type": "code",
   "execution_count": 9,
   "metadata": {},
   "outputs": [],
   "source": [
    "inference_engine = ScikitLearnInferenceEngine(model)"
   ]
  },
  {
   "cell_type": "markdown",
   "metadata": {},
   "source": [
    "### UQ Engine\n",
    "We will use the the distance to the nearest training point as a criterion"
   ]
  },
  {
   "cell_type": "code",
   "execution_count": 10,
   "metadata": {},
   "outputs": [],
   "source": [
    "uq_engine = DistanceBasedUQ(0.1, metric='euclidean')"
   ]
  },
  {
   "cell_type": "markdown",
   "metadata": {},
   "source": [
    "### Data Collection Engine\n",
    "The basic tool in Proxima is to simply store all training data in memory."
   ]
  },
  {
   "cell_type": "code",
   "execution_count": 11,
   "metadata": {},
   "outputs": [],
   "source": [
    "data_source = InMemoryDataStorage()"
   ]
  },
  {
   "cell_type": "markdown",
   "metadata": {},
   "source": [
    "Add the current training data"
   ]
  },
  {
   "cell_type": "code",
   "execution_count": 12,
   "metadata": {},
   "outputs": [],
   "source": [
    "data_source.add_pairs(points, ackley(points))"
   ]
  },
  {
   "cell_type": "markdown",
   "metadata": {},
   "source": [
    "### Training Engine\n",
    "The training engine supports both tools for running the models and different strategies for running the training (e.g., whether to retrain every time)"
   ]
  },
  {
   "cell_type": "code",
   "execution_count": 13,
   "metadata": {},
   "outputs": [],
   "source": [
    "train_engine = TrainingEngine()"
   ]
  },
  {
   "cell_type": "markdown",
   "metadata": {},
   "source": [
    "### Step 2: Interpose the Original Function\n",
    "In Python, we can use wrappers to create the Learned Function Accelerator"
   ]
  },
  {
   "cell_type": "code",
   "execution_count": 14,
   "metadata": {},
   "outputs": [],
   "source": [
    "lfa_func = lfa(inference_engine, uq_engine, data_source, train_engine)(ackley)"
   ]
  },
  {
   "cell_type": "markdown",
   "metadata": {},
   "source": [
    "## Test Out the Inference Engine\n",
    "Run a series of predictions to illustrate the model improving"
   ]
  },
  {
   "cell_type": "markdown",
   "metadata": {},
   "source": [
    "Call a point from the training set..."
   ]
  },
  {
   "cell_type": "code",
   "execution_count": 15,
   "metadata": {},
   "outputs": [],
   "source": [
    "x = points[0][0]\n",
    "y = lfa_func(x)"
   ]
  },
  {
   "cell_type": "code",
   "execution_count": 16,
   "metadata": {},
   "outputs": [
    {
     "data": {
      "text/plain": [
       "AccelStats(lfa_runs=1, lfa_time=0.0008391000000000002, uq_time=0.0017313, train_time=0, target_runs=0, target_time=0)"
      ]
     },
     "execution_count": 16,
     "metadata": {},
     "output_type": "execute_result"
    }
   ],
   "source": [
    "lfa_func.get_performance_info()"
   ]
  },
  {
   "cell_type": "markdown",
   "metadata": {},
   "source": [
    "... and the LFA invokes the surrogate model"
   ]
  },
  {
   "cell_type": "markdown",
   "metadata": {},
   "source": [
    "Call a point just outside of that training point..."
   ]
  },
  {
   "cell_type": "code",
   "execution_count": 17,
   "metadata": {},
   "outputs": [
    {
     "data": {
      "text/plain": [
       "AccelStats(lfa_runs=2, lfa_time=0.0019366000000000014, uq_time=0.003458300000000006, train_time=0, target_runs=0, target_time=0)"
      ]
     },
     "execution_count": 17,
     "metadata": {},
     "output_type": "execute_result"
    }
   ],
   "source": [
    "y = lfa_func(x + 1e-4)\n",
    "lfa_func.get_performance_info()"
   ]
  },
  {
   "cell_type": "markdown",
   "metadata": {},
   "source": [
    "... and it still invokes the model"
   ]
  },
  {
   "cell_type": "markdown",
   "metadata": {},
   "source": [
    "Call a point far outside the training data..."
   ]
  },
  {
   "cell_type": "code",
   "execution_count": 18,
   "metadata": {},
   "outputs": [
    {
     "data": {
      "text/plain": [
       "AccelStats(lfa_runs=2, lfa_time=0.0019366000000000014, uq_time=0.004851500000000017, train_time=0.0004261000000000126, target_runs=1, target_time=0.00011909999999998311)"
      ]
     },
     "execution_count": 18,
     "metadata": {},
     "output_type": "execute_result"
    }
   ],
   "source": [
    "y = lfa_func(0)\n",
    "lfa_func.get_performance_info()"
   ]
  },
  {
   "cell_type": "markdown",
   "metadata": {},
   "source": [
    "... and it runs the target function and retrains the model"
   ]
  },
  {
   "cell_type": "code",
   "execution_count": 19,
   "metadata": {},
   "outputs": [
    {
     "data": {
      "image/png": "[encoded data removed]",
      "text/plain": [
       "<Figure size 252x180 with 1 Axes>"
      ]
     },
     "metadata": {},
     "output_type": "display_data"
    }
   ],
   "source": [
    "fig, ax = plt.subplots()\n",
    "\n",
    "# Mark enumeration points\n",
    "X = np.linspace(-10, 10, 512)[:, None]\n",
    "\n",
    "# Generate the predictions\n",
    "y_pred = lfa_func.inference_engine.model.predict(X)\n",
    "y = ackley(X)\n",
    "\n",
    "# Get the training points\n",
    "points, _ = lfa_func.data_source.get_all_data()\n",
    "\n",
    "# Plot it all\n",
    "ax.plot(X, y, 'k', label='target')\n",
    "ax.scatter(points, ackley(points), color='steelblue')\n",
    "ax.plot(X, y_pred, color='steelblue', label='model')\n",
    "\n",
    "ax.legend()\n",
    "\n",
    "ax.set_xlabel('$x$')\n",
    "ax.set_ylabel('$f(x)$')\n",
    "fig.set_size_inches(3.5, 2.5)"
   ]
  },
  {
   "cell_type": "markdown",
   "metadata": {},
   "source": [
    "*Finding*: The model has now improved slightly. "
   ]
  },
  {
   "cell_type": "markdown",
   "metadata": {},
   "source": [
    "## Using the Function in an Application\n",
    "We can use this new function to compute the integral"
   ]
  },
  {
   "cell_type": "code",
   "execution_count": 20,
   "metadata": {},
   "outputs": [
    {
     "name": "stdout",
     "output_type": "stream",
     "text": [
      "Computed integral with LFA: 256.20\n",
      "Computed integral with original function: 256.11\n",
      "Difference: 8.54e-02\n"
     ]
    },
    {
     "name": "stderr",
     "output_type": "stream",
     "text": [
      "C:\\Users\\ward6\\Miniconda3\\lib\\site-packages\\scipy\\integrate\\quadrature.py:752: AccuracyWarning: divmax (10) exceeded. Latest difference = 2.455629e-02\n",
      "  AccuracyWarning)\n"
     ]
    }
   ],
   "source": [
    "lfa_result = romberg(lfa_func, -10, 10)[0]\n",
    "print('Computed integral with LFA: {:.2f}'.format(lfa_result))\n",
    "print('Computed integral with original function: {:.2f}'.format(true_result))\n",
    "print('Difference: {:.2e}'.format(lfa_result - true_result))"
   ]
  },
  {
   "cell_type": "markdown",
   "metadata": {},
   "source": [
    "Print out the performance information"
   ]
  },
  {
   "cell_type": "code",
   "execution_count": 21,
   "metadata": {},
   "outputs": [
    {
     "data": {
      "text/plain": [
       "AccelStats(lfa_runs=903, lfa_time=0.3762949999999979, uq_time=0.6229363999999994, train_time=0.05053279999999985, target_runs=125, target_time=0.007073699999999239)"
      ]
     },
     "execution_count": 21,
     "metadata": {},
     "output_type": "execute_result"
    }
   ],
   "source": [
    "perf_info = lfa_func.get_performance_info()\n",
    "perf_info"
   ]
  },
  {
   "cell_type": "code",
   "execution_count": 22,
   "metadata": {},
   "outputs": [
    {
     "name": "stdout",
     "output_type": "stream",
     "text": [
      "LFA used 87.84% of the time\n"
     ]
    }
   ],
   "source": [
    "print('LFA used {:.2f}% of the time'.format(perf_info.lfa_runs / (perf_info.lfa_runs + perf_info.target_runs) * 100))"
   ]
  },
  {
   "cell_type": "markdown",
   "metadata": {},
   "source": [
    "Plot the final model"
   ]
  },
  {
   "cell_type": "code",
   "execution_count": 23,
   "metadata": {},
   "outputs": [
    {
     "data": {
      "image/png": "[encoded data removed]",
      "text/plain": [
       "<Figure size 252x180 with 1 Axes>"
      ]
     },
     "metadata": {},
     "output_type": "display_data"
    }
   ],
   "source": [
    "fig, ax = plt.subplots()\n",
    "\n",
    "# Mark enumeration points\n",
    "X = np.linspace(-10, 10, 512)[:, None]\n",
    "\n",
    "# Generate the predictions\n",
    "y_pred = lfa_func.inference_engine.model.predict(X)\n",
    "y = ackley(X)\n",
    "\n",
    "# Get the training points\n",
    "points, _ = lfa_func.data_source.get_all_data()\n",
    "\n",
    "# Plot it all\n",
    "ax.plot(X, y, 'k', label='target')\n",
    "ax.scatter(points, ackley(points), color='steelblue')\n",
    "ax.plot(X, y_pred, color='steelblue', label='model')\n",
    "\n",
    "ax.legend()\n",
    "\n",
    "ax.set_xlabel('$x$')\n",
    "ax.set_ylabel('$f(x)$')\n",
    "fig.set_size_inches(3.5, 2.5)"
   ]
  },
  {
   "cell_type": "code",
   "execution_count": null,
   "metadata": {},
   "outputs": [],
   "source": []
  }
 ],
 "metadata": {
  "kernelspec": {
   "display_name": "Python 3",
   "language": "python",
   "name": "python3"
  },
  "language_info": {
   "codemirror_mode": {
    "name": "ipython",
    "version": 3
   },
   "file_extension": ".py",
   "mimetype": "text/x-python",
   "name": "python",
   "nbconvert_exporter": "python",
   "pygments_lexer": "ipython3",
   "version": "3.6.8"
  }
 },
 "nbformat": 4,
 "nbformat_minor": 2
}
