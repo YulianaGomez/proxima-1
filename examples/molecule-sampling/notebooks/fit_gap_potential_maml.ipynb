{
 "cells": [
  {
   "cell_type": "markdown",
   "metadata": {},
   "source": [
    "# Fit a GAP Potential\n",
    "Explore how we can fit a [GAP](https://arxiv.org/pdf/1502.01366.pdf) potential using [MAML](https://github.com/materialsvirtuallab/maml) and [QUIP](https://libatoms.github.io/GAP/index.html)"
   ]
  },
  {
   "cell_type": "code",
   "execution_count": 1,
   "metadata": {},
   "outputs": [],
   "source": [
    "%matplotlib inline\n",
    "from matplotlib import pyplot as plt\n",
    "from mcdemo.lfa.gap.quippy import fit_gap\n",
    "from sklearn.model_selection import train_test_split\n",
    "from functools import partial\n",
    "from tqdm import tqdm\n",
    "from ase import Atoms\n",
    "import pandas as pd\n",
    "import numpy as np\n",
    "import json\n",
    "import os"
   ]
  },
  {
   "cell_type": "markdown",
   "metadata": {},
   "source": [
    "## Load in the Dataset\n",
    "Get the dataset form the previous example"
   ]
  },
  {
   "cell_type": "code",
   "execution_count": 2,
   "metadata": {},
   "outputs": [
    {
     "name": "stdout",
     "output_type": "stream",
     "text": [
      "Loaded 256 training examples\n"
     ]
    }
   ],
   "source": [
    "data = pd.read_pickle('atoms.pkl.gz')\n",
    "print(f'Loaded {len(data)} training examples')"
   ]
  },
  {
   "cell_type": "markdown",
   "metadata": {},
   "source": [
    "Make a train-test split"
   ]
  },
  {
   "cell_type": "code",
   "execution_count": 3,
   "metadata": {},
   "outputs": [],
   "source": [
    "train_data, test_data = train_test_split(data, train_size=0.9, shuffle=True)"
   ]
  },
  {
   "cell_type": "markdown",
   "metadata": {},
   "source": [
    "## Test Model with Some Default Parameters\n",
    "Use a 90/10 train/test split"
   ]
  },
  {
   "cell_type": "code",
   "execution_count": 4,
   "metadata": {},
   "outputs": [
    {
     "name": "stdout",
     "output_type": "stream",
     "text": [
      "CPU times: user 19.8 s, sys: 277 ms, total: 20.1 s\n",
      "Wall time: 36 s\n"
     ]
    }
   ],
   "source": [
    "%%time\n",
    "p = fit_gap(train_data['atoms'], train_data['energy'], None, cutoff=6, n_sparse=256, n_max=8, l_max=8, use_forces=False)"
   ]
  },
  {
   "cell_type": "code",
   "execution_count": 5,
   "metadata": {},
   "outputs": [
    {
     "name": "stdout",
     "output_type": "stream",
     "text": [
      "MAE: 0.007964233263158768 Ha\n",
      "CPU times: user 941 ms, sys: 16 ms, total: 957 ms\n",
      "Wall time: 955 ms\n"
     ]
    }
   ],
   "source": [
    "%%time\n",
    "pred_y = test_data['atoms'].apply(p.get_potential_energy)\n",
    "print(f'MAE: {(pred_y - test_data[\"energy\"]).abs().mean()} Ha')"
   ]
  },
  {
   "cell_type": "code",
   "execution_count": 6,
   "metadata": {},
   "outputs": [
    {
     "data": {
      "text/plain": [
       "Text(0, 0.5, '$\\\\Delta E$, ML (Ha)')"
      ]
     },
     "execution_count": 6,
     "metadata": {},
     "output_type": "execute_result"
    },
    {
     "data": {
      "image/png": "[encoded data removed]",
      "text/plain": [
       "<Figure size 252x252 with 1 Axes>"
      ]
     },
     "metadata": {
      "needs_background": "light"
     },
     "output_type": "display_data"
    }
   ],
   "source": [
    "fig, ax = plt.subplots(figsize=(3.5, 3.5))\n",
    "\n",
    "ax.scatter(test_data['energy'] - test_data['energy'].min(), pred_y - test_data['energy'].min())\n",
    "\n",
    "lims = ax.get_xlim()\n",
    "ax.set_xlim(lims)\n",
    "#ax.set_ylim(lims)\n",
    "ax.plot(lims, lims, 'k--')\n",
    "\n",
    "ax.set_xlabel('$\\Delta E$, DFT (Ha)')\n",
    "ax.set_ylabel('$\\Delta E$, ML (Ha)')"
   ]
  },
  {
   "cell_type": "markdown",
   "metadata": {},
   "source": [
    "## Optimize the Hyperparmeters\n",
    "We have a few key parameters to fit, including the complexity of the SOAP intergrals (defined by $n_{max}$ and $l_{max}$) and the GAP model (defined by the number of points)"
   ]
  },
  {
   "cell_type": "code",
   "execution_count": 7,
   "metadata": {},
   "outputs": [],
   "source": [
    "subtrain_data, val_data = train_test_split(train_data, test_size=0.1)"
   ]
  },
  {
   "cell_type": "code",
   "execution_count": 8,
   "metadata": {},
   "outputs": [],
   "source": [
    "n_max = [2, 4, 6, 8]\n",
    "l_max = [2, 4, 6, 8]"
   ]
  },
  {
   "cell_type": "code",
   "execution_count": 9,
   "metadata": {},
   "outputs": [],
   "source": [
    "n_grid, l_grid = np.meshgrid(n_max, l_max)\n",
    "n_grid = n_grid.flatten()\n",
    "l_grid = l_grid.flatten()"
   ]
  },
  {
   "cell_type": "code",
   "execution_count": 10,
   "metadata": {},
   "outputs": [
    {
     "name": "stderr",
     "output_type": "stream",
     "text": [
      "16it [07:24, 27.78s/it]\n"
     ]
    }
   ],
   "source": [
    "grid_mae = []\n",
    "for n, l in tqdm(zip(n_grid.flatten(), l_grid.flatten())):\n",
    "    p = fit_gap(subtrain_data['atoms'], subtrain_data['energy'], subtrain_data['forces'].values,\n",
    "                n_sparse=256, n_max=n, l_max=l, cutoff=6)\n",
    "    pred_y = val_data['atoms'].apply(p.get_potential_energy)\n",
    "    grid_mae.append(np.abs(pred_y - val_data['energy']).mean())"
   ]
  },
  {
   "cell_type": "code",
   "execution_count": 11,
   "metadata": {},
   "outputs": [
    {
     "data": {
      "text/plain": [
       "<matplotlib.colorbar.Colorbar at 0x7f13262c46d8>"
      ]
     },
     "execution_count": 11,
     "metadata": {},
     "output_type": "execute_result"
    },
    {
     "data": {
      "image/png": "[encoded data removed]",
      "text/plain": [
       "<Figure size 432x288 with 2 Axes>"
      ]
     },
     "metadata": {
      "needs_background": "light"
     },
     "output_type": "display_data"
    }
   ],
   "source": [
    "fig, ax = plt.subplots()\n",
    "\n",
    "l = ax.scatter(n_grid, l_grid, c=grid_mae)\n",
    "\n",
    "fig.colorbar(l)"
   ]
  },
  {
   "cell_type": "markdown",
   "metadata": {},
   "source": [
    "Just cranking the $n$ and $l$ seems to do the trick\n",
    "\n",
    "## Make a Learning Curve\n",
    "Plot the accuracy as a function of number of training set entries"
   ]
  },
  {
   "cell_type": "code",
   "execution_count": 12,
   "metadata": {},
   "outputs": [
    {
     "name": "stderr",
     "output_type": "stream",
     "text": [
      "100%|██████████| 4/4 [01:19<00:00, 19.84s/it]\n"
     ]
    }
   ],
   "source": [
    "results = []\n",
    "for ts in tqdm([2, 8, 32, 128]):\n",
    "    subset = train_data.sample(ts)\n",
    "    \n",
    "    # Fit\n",
    "    p = fit_gap(subset['atoms'], subset['energy'], subset['forces'].values, cutoff=6, n_sparse=256, n_max=8, l_max=8)\n",
    "    \n",
    "    #\n",
    "    pred_y = test_data['atoms'].apply(p.get_potential_energy)\n",
    "    mae = (pred_y - test_data[\"energy\"]).abs().mean()\n",
    "    \n",
    "    results.append({\n",
    "        'train_size': ts,\n",
    "        'mae': mae,\n",
    "    })"
   ]
  },
  {
   "cell_type": "markdown",
   "metadata": {},
   "source": [
    "Plot the performance"
   ]
  },
  {
   "cell_type": "code",
   "execution_count": 13,
   "metadata": {},
   "outputs": [],
   "source": [
    "results = pd.DataFrame(results)"
   ]
  },
  {
   "cell_type": "code",
   "execution_count": 14,
   "metadata": {},
   "outputs": [
    {
     "data": {
      "text/plain": [
       "Text(0, 0.5, 'MAE (Ha)')"
      ]
     },
     "execution_count": 14,
     "metadata": {},
     "output_type": "execute_result"
    },
    {
     "data": {
      "image/png": "[encoded data removed]",
      "text/plain": [
       "<Figure size 432x288 with 1 Axes>"
      ]
     },
     "metadata": {
      "needs_background": "light"
     },
     "output_type": "display_data"
    }
   ],
   "source": [
    "fig, ax = plt.subplots()\n",
    "\n",
    "ax.loglog(results['train_size'], results['mae'], '--o')\n",
    "\n",
    "ax.set_xlabel('N Train')\n",
    "ax.set_ylabel('MAE (Ha)')"
   ]
  },
  {
   "cell_type": "code",
   "execution_count": null,
   "metadata": {},
   "outputs": [],
   "source": []
  }
 ],
 "metadata": {
  "kernelspec": {
   "display_name": "Python 3",
   "language": "python",
   "name": "python3"
  },
  "language_info": {
   "codemirror_mode": {
    "name": "ipython",
    "version": 3
   },
   "file_extension": ".py",
   "mimetype": "text/x-python",
   "name": "python",
   "nbconvert_exporter": "python",
   "pygments_lexer": "ipython3",
   "version": "3.6.13"
  }
 },
 "nbformat": 4,
 "nbformat_minor": 4
}
