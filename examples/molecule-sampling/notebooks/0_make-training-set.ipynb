{
 "cells": [
  {
   "cell_type": "markdown",
   "metadata": {},
   "source": [
    "# Make Training Set\n",
    "Generates a dataset of a few hundreded training points"
   ]
  },
  {
   "cell_type": "code",
   "execution_count": 1,
   "metadata": {},
   "outputs": [],
   "source": [
    "from mcdemo.utils import get_qm9_path\n",
    "from ase.calculators.psi4 import Psi4\n",
    "from ase.io.xyz import read_xyz\n",
    "from ase import Atoms\n",
    "from io import StringIO\n",
    "from tqdm import tqdm\n",
    "import pandas as pd\n",
    "import numpy as np\n",
    "import gzip\n",
    "import json"
   ]
  },
  {
   "cell_type": "markdown",
   "metadata": {},
   "source": [
    "Configuration"
   ]
  },
  {
   "cell_type": "code",
   "execution_count": 2,
   "metadata": {},
   "outputs": [],
   "source": [
    "mol_id = 128\n",
    "n_samples = 256\n",
    "method='hf'\n",
    "basis='3-21g'\n",
    "element_list = ['C', 'H', 'O', 'N', 'F']"
   ]
  },
  {
   "cell_type": "markdown",
   "metadata": {},
   "source": [
    "## Get a Molecule\n",
    "Get a molecule from the QM9 dataset to use to train some models"
   ]
  },
  {
   "cell_type": "code",
   "execution_count": 3,
   "metadata": {},
   "outputs": [],
   "source": [
    "qm9_path = get_qm9_path()\n",
    "with gzip.open(qm9_path, 'rt') as fp:\n",
    "    for _, d in zip(range(mol_id), fp):\n",
    "        pass\n",
    "    mol_info = json.loads(d)"
   ]
  },
  {
   "cell_type": "code",
   "execution_count": 4,
   "metadata": {},
   "outputs": [
    {
     "name": "stdout",
     "output_type": "stream",
     "text": [
      "Loaded data for COCC=O\n"
     ]
    }
   ],
   "source": [
    "print(f'Loaded data for {mol_info[\"smiles_0\"]}')"
   ]
  },
  {
   "cell_type": "code",
   "execution_count": 5,
   "metadata": {},
   "outputs": [],
   "source": [
    "atoms = next(read_xyz(StringIO(mol_info['xyz'])))"
   ]
  },
  {
   "cell_type": "markdown",
   "metadata": {},
   "source": [
    "## Compute the Per-Atom Energies\n",
    "Compute the isolated atom energies with the same functional"
   ]
  },
  {
   "cell_type": "code",
   "execution_count": 6,
   "metadata": {},
   "outputs": [
    {
     "name": "stderr",
     "output_type": "stream",
     "text": [
      "100%|██████████| 5/5 [00:01<00:00,  3.18it/s]\n"
     ]
    }
   ],
   "source": [
    "isolated_energies = {}\n",
    "for elem in tqdm(element_list):\n",
    "    isolated = Atoms(symbols=[elem], positions=[[0, 0, 0]])\n",
    "    \n",
    "    # Make the appropriate calculator\n",
    "    open_shell = sum(isolated.get_atomic_numbers()) % 2 == 1\n",
    "    if open_shell:\n",
    "        calc = Psi4(memory='500MB', method=method, basis=basis, reference='uhf', multiplicity=2)\n",
    "    else:\n",
    "        calc = Psi4(memory='500MB', method=method, basis=basis)\n",
    "    isolated_energies[elem] = calc.get_potential_energy(isolated)"
   ]
  },
  {
   "cell_type": "code",
   "execution_count": 7,
   "metadata": {},
   "outputs": [],
   "source": [
    "with open('isolated-energies.json', 'w') as fp:\n",
    "    json.dump(isolated_energies, fp, indent=2)"
   ]
  },
  {
   "cell_type": "markdown",
   "metadata": {},
   "source": [
    "## Generate Many Configurations and Evaluate Their Energy\n",
    "Get a training set for a machine learning model"
   ]
  },
  {
   "cell_type": "code",
   "execution_count": 8,
   "metadata": {},
   "outputs": [],
   "source": [
    "calc = Psi4(memory='500MB', method=method, basis=basis, num_threads='max')"
   ]
  },
  {
   "cell_type": "code",
   "execution_count": 9,
   "metadata": {},
   "outputs": [
    {
     "name": "stderr",
     "output_type": "stream",
     "text": [
      "100%|██████████| 256/256 [10:36<00:00,  2.49s/it]\n"
     ]
    }
   ],
   "source": [
    "rng = np.random.RandomState(1)\n",
    "results = []\n",
    "for _ in tqdm(range(n_samples)):\n",
    "    # Perturb atoms and evaluate energy\n",
    "    new_atoms = atoms.copy()\n",
    "    new_atoms.rattle(0.03, rng=rng)\n",
    "    forces = calc.get_forces(new_atoms)\n",
    "    energy = calc.get_potential_energy(new_atoms)\n",
    "    results.append({\n",
    "        'atoms': new_atoms,\n",
    "        'total_energy': energy,\n",
    "        'energy': energy - sum(isolated_energies[e] for e in atoms.symbols),\n",
    "        'forces': forces\n",
    "    })"
   ]
  },
  {
   "cell_type": "markdown",
   "metadata": {},
   "source": [
    "Save as a pickle file"
   ]
  },
  {
   "cell_type": "code",
   "execution_count": 10,
   "metadata": {},
   "outputs": [],
   "source": [
    "results = pd.DataFrame(results)"
   ]
  },
  {
   "cell_type": "code",
   "execution_count": 11,
   "metadata": {},
   "outputs": [],
   "source": [
    "results.to_pickle('atoms.pkl.gz')"
   ]
  }
 ],
 "metadata": {
  "kernelspec": {
   "display_name": "Python 3",
   "language": "python",
   "name": "python3"
  },
  "language_info": {
   "codemirror_mode": {
    "name": "ipython",
    "version": 3
   },
   "file_extension": ".py",
   "mimetype": "text/x-python",
   "name": "python",
   "nbconvert_exporter": "python",
   "pygments_lexer": "ipython3",
   "version": "3.6.13"
  }
 },
 "nbformat": 4,
 "nbformat_minor": 4
}
