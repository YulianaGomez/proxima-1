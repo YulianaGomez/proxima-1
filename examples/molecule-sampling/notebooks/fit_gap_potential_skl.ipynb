{
 "cells": [
  {
   "cell_type": "markdown",
   "metadata": {},
   "source": [
    "# Fit a GAP Potential\n",
    "Explore how we can fit a [GAP](https://arxiv.org/pdf/1502.01366.pdf) potential using scikit-learn"
   ]
  },
  {
   "cell_type": "code",
   "execution_count": 1,
   "metadata": {},
   "outputs": [],
   "source": [
    "%matplotlib inline\n",
    "from matplotlib import pyplot as plt\n",
    "from mcdemo.lfa.gap.skl import SOAPConverter, ScalableKernel, ScaleFeatures\n",
    "from sklearn.gaussian_process import GaussianProcessRegressor, kernels\n",
    "from sklearn.model_selection import train_test_split\n",
    "from sklearn.linear_model import BayesianRidge\n",
    "from sklearn.pipeline import Pipeline\n",
    "from sklearn import metrics\n",
    "from dscribe.descriptors import SOAP\n",
    "from functools import partial\n",
    "from tqdm import tqdm\n",
    "import pandas as pd\n",
    "import numpy as np\n",
    "import json\n",
    "import os"
   ]
  },
  {
   "cell_type": "markdown",
   "metadata": {},
   "source": [
    "## Load in the Dataset\n",
    "Get the dataset form the previous example"
   ]
  },
  {
   "cell_type": "code",
   "execution_count": 2,
   "metadata": {},
   "outputs": [
    {
     "name": "stdout",
     "output_type": "stream",
     "text": [
      "Loaded 256 training examples\n"
     ]
    }
   ],
   "source": [
    "data = pd.read_pickle('atoms.pkl.gz')\n",
    "print(f'Loaded {len(data)} training examples')"
   ]
  },
  {
   "cell_type": "markdown",
   "metadata": {},
   "source": [
    "Make a train-test split"
   ]
  },
  {
   "cell_type": "code",
   "execution_count": 3,
   "metadata": {},
   "outputs": [],
   "source": [
    "train_data, test_data = train_test_split(data, train_size=0.9, shuffle=True)"
   ]
  },
  {
   "cell_type": "markdown",
   "metadata": {},
   "source": [
    "## Make the Model\n",
    "Use a Pipeline to do the kernel calculations"
   ]
  },
  {
   "cell_type": "code",
   "execution_count": 4,
   "metadata": {},
   "outputs": [],
   "source": [
    "model = Pipeline([\n",
    "    ('soap', SOAPConverter()),\n",
    "    ('scaler', ScaleFeatures()),\n",
    "    ('kernel', ScalableKernel()),\n",
    "    ('model', BayesianRidge())\n",
    "])"
   ]
  },
  {
   "cell_type": "code",
   "execution_count": 5,
   "metadata": {},
   "outputs": [
    {
     "data": {
      "text/plain": [
       "Pipeline(memory=None,\n",
       "         steps=[('soap',\n",
       "                 SOAPConverter(lmax=None, nmax=None, rcut=None, species=None)),\n",
       "                ('scaler', ScaleFeatures(eps=1e-06)),\n",
       "                ('kernel', ScalableKernel(gamma=1.0, max_points=None)),\n",
       "                ('model',\n",
       "                 BayesianRidge(alpha_1=1e-06, alpha_2=1e-06,\n",
       "                               compute_score=False, copy_X=True,\n",
       "                               fit_intercept=True, lambda_1=1e-06,\n",
       "                               lambda_2=1e-06, n_iter=300, normalize=False,\n",
       "                               tol=0.001, verbose=False))],\n",
       "         verbose=False)"
      ]
     },
     "execution_count": 5,
     "metadata": {},
     "output_type": "execute_result"
    }
   ],
   "source": [
    "model"
   ]
  },
  {
   "cell_type": "markdown",
   "metadata": {},
   "source": [
    "## Test Model\n",
    "Use a 50/50 train/test split"
   ]
  },
  {
   "cell_type": "code",
   "execution_count": 6,
   "metadata": {},
   "outputs": [
    {
     "name": "stderr",
     "output_type": "stream",
     "text": [
      "100%|██████████| 8/8 [04:40<00:00, 35.04s/it]\n"
     ]
    }
   ],
   "source": [
    "results = []\n",
    "for y in tqdm(np.logspace(-2, 2, 8)):\n",
    "    model.set_params(kernel__gamma=y)\n",
    "    model.fit(train_data['atoms'], train_data['energy'])\n",
    "    y_pred = model.predict(test_data['atoms'])\n",
    "    results.append({\n",
    "        'gamma': y,\n",
    "        'mae': metrics.mean_absolute_error(y_pred, test_data['energy'])\n",
    "    })"
   ]
  },
  {
   "cell_type": "markdown",
   "metadata": {},
   "source": [
    "Plot the outputs"
   ]
  },
  {
   "cell_type": "code",
   "execution_count": 7,
   "metadata": {},
   "outputs": [],
   "source": [
    "results = pd.DataFrame(results)"
   ]
  },
  {
   "cell_type": "code",
   "execution_count": 8,
   "metadata": {},
   "outputs": [
    {
     "data": {
      "text/plain": [
       "Text(0, 0.5, 'MAE (Ha)')"
      ]
     },
     "execution_count": 8,
     "metadata": {},
     "output_type": "execute_result"
    },
    {
     "data": {
      "image/png": "[encoded data removed]",
      "text/plain": [
       "<Figure size 252x180 with 1 Axes>"
      ]
     },
     "metadata": {
      "needs_background": "light"
     },
     "output_type": "display_data"
    }
   ],
   "source": [
    "fig, ax = plt.subplots(figsize=(3.5, 2.5))\n",
    "ax.loglog(results['gamma'], results['mae'])\n",
    "ax.set_xlabel('$\\gamma$')\n",
    "ax.set_ylabel('MAE (Ha)')"
   ]
  },
  {
   "cell_type": "markdown",
   "metadata": {},
   "source": [
    "Pick the best model"
   ]
  },
  {
   "cell_type": "code",
   "execution_count": 9,
   "metadata": {},
   "outputs": [
    {
     "data": {
      "text/plain": [
       "Pipeline(memory=None,\n",
       "         steps=[('soap',\n",
       "                 SOAPConverter(lmax=None, nmax=None, rcut=None, species=None)),\n",
       "                ('scaler', ScaleFeatures(eps=1e-06)),\n",
       "                ('kernel',\n",
       "                 ScalableKernel(gamma=26.826957952797247, max_points=None)),\n",
       "                ('model',\n",
       "                 BayesianRidge(alpha_1=1e-06, alpha_2=1e-06,\n",
       "                               compute_score=False, copy_X=True,\n",
       "                               fit_intercept=True, lambda_1=1e-06,\n",
       "                               lambda_2=1e-06, n_iter=300, normalize=False,\n",
       "                               tol=0.001, verbose=False))],\n",
       "         verbose=False)"
      ]
     },
     "execution_count": 9,
     "metadata": {},
     "output_type": "execute_result"
    }
   ],
   "source": [
    "model.set_params(kernel__gamma=results.loc[results['mae'].idxmin()]['gamma'])\n",
    "model.fit(train_data['atoms'], train_data['energy'])"
   ]
  },
  {
   "cell_type": "code",
   "execution_count": 10,
   "metadata": {},
   "outputs": [
    {
     "name": "stdout",
     "output_type": "stream",
     "text": [
      "MAE: 0.03971662929941972 Ha\n",
      "CPU times: user 3.12 s, sys: 0 ns, total: 3.12 s\n",
      "Wall time: 3.13 s\n"
     ]
    }
   ],
   "source": [
    "%%time\n",
    "pred_y, pred_std = model.predict(test_data['atoms'], return_std=True)\n",
    "print(f'MAE: {(pred_y - test_data[\"energy\"]).abs().mean()} Ha')"
   ]
  },
  {
   "cell_type": "code",
   "execution_count": 11,
   "metadata": {},
   "outputs": [
    {
     "data": {
      "text/plain": [
       "Text(0, 0.5, '$\\\\Delta E$, ML (Ha)')"
      ]
     },
     "execution_count": 11,
     "metadata": {},
     "output_type": "execute_result"
    },
    {
     "data": {
      "image/png": "[encoded data removed]",
      "text/plain": [
       "<Figure size 252x252 with 1 Axes>"
      ]
     },
     "metadata": {
      "needs_background": "light"
     },
     "output_type": "display_data"
    }
   ],
   "source": [
    "fig, ax = plt.subplots(figsize=(3.5, 3.5))\n",
    "\n",
    "\n",
    "ax.scatter(test_data['energy'] - test_data['energy'].min(), pred_y - test_data['energy'].min())\n",
    "\n",
    "lims = ax.get_xlim()\n",
    "#lims[0] = 0\n",
    "ax.set_xlim(lims)\n",
    "ax.set_ylim(lims)\n",
    "ax.plot(lims, lims, 'k--')\n",
    "\n",
    "ax.set_xlabel('$\\Delta E$, DFT (Ha)')\n",
    "ax.set_ylabel('$\\Delta E$, ML (Ha)')"
   ]
  },
  {
   "cell_type": "code",
   "execution_count": null,
   "metadata": {},
   "outputs": [],
   "source": []
  }
 ],
 "metadata": {
  "kernelspec": {
   "display_name": "Python 3",
   "language": "python",
   "name": "python3"
  },
  "language_info": {
   "codemirror_mode": {
    "name": "ipython",
    "version": 3
   },
   "file_extension": ".py",
   "mimetype": "text/x-python",
   "name": "python",
   "nbconvert_exporter": "python",
   "pygments_lexer": "ipython3",
   "version": "3.6.13"
  }
 },
 "nbformat": 4,
 "nbformat_minor": 4
}
